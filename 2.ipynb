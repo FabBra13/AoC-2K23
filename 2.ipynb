{
 "cells": [
  {
   "cell_type": "code",
   "execution_count": 11,
   "metadata": {},
   "outputs": [],
   "source": [
    "import pandas as pd\n",
    "import re"
   ]
  },
  {
   "cell_type": "code",
   "execution_count": 39,
   "metadata": {},
   "outputs": [
    {
     "name": "stdout",
     "output_type": "stream",
     "text": [
      "2061\n"
     ]
    }
   ],
   "source": [
    "results_list = []\n",
    "with open('input/2.txt', 'r') as file:\n",
    "    for line in file:\n",
    "        game, results = line.strip().split(':')\n",
    "        game_number = int(game.split(' ')[-1])\n",
    "        results = results.split(';')\n",
    "        for r in results:\n",
    "            green_match = re.search(r'(\\d+)\\s+green', r)\n",
    "            red_match = re.search(r'(\\d+)\\s+red', r)\n",
    "            blue_match = re.search(r'(\\d+)\\s+blue', r)\n",
    "            res = {'game_number': game_number, 'green': -1, 'red': -1, 'blue': -1}\n",
    "            if green_match:\n",
    "                res['green'] = int(green_match.group(1))\n",
    "            if red_match:\n",
    "                res['red'] = int(red_match.group(1))\n",
    "            if blue_match:\n",
    "                res['blue'] = int(blue_match.group(1))\n",
    "\n",
    "            results_list.append(res)\n",
    "\n",
    "df = pd.DataFrame(results_list)\n",
    "\n",
    "#12 red cubes, 13 green cubes and 14 blue cubes\n",
    "df['passed_test'] = (df['red'] <= 12) & (df['green'] <= 13) & (df['blue'] <= 14)\n",
    "\n",
    "df_pct = df.groupby('game_number')['passed_test'].mean().reset_index()\n",
    "\n",
    "solution = df_pct.query('passed_test == 1')['game_number'].sum()\n",
    "print(solution)"
   ]
  },
  {
   "cell_type": "code",
   "execution_count": 48,
   "metadata": {},
   "outputs": [
    {
     "name": "stdout",
     "output_type": "stream",
     "text": [
      "72596\n"
     ]
    }
   ],
   "source": [
    "df_max = df.groupby('game_number').max()\n",
    "df_max['power'] = df_max['green'] * df_max['red'] * df_max['blue']\n",
    "solution2 = df_max['power'].sum()\n",
    "print(solution2)"
   ]
  },
  {
   "cell_type": "code",
   "execution_count": null,
   "metadata": {},
   "outputs": [],
   "source": []
  }
 ],
 "metadata": {
  "kernelspec": {
   "display_name": "Python 3",
   "language": "python",
   "name": "python3"
  },
  "language_info": {
   "codemirror_mode": {
    "name": "ipython",
    "version": 3
   },
   "file_extension": ".py",
   "mimetype": "text/x-python",
   "name": "python",
   "nbconvert_exporter": "python",
   "pygments_lexer": "ipython3",
   "version": "3.11.4"
  },
  "orig_nbformat": 4
 },
 "nbformat": 4,
 "nbformat_minor": 2
}
